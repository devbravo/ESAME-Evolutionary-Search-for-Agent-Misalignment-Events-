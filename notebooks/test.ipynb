{
 "cells": [
  {
   "metadata": {
    "ExecuteTime": {
     "end_time": "2025-03-31T19:13:07.873770Z",
     "start_time": "2025-03-31T19:13:07.867640Z"
    }
   },
   "cell_type": "code",
   "source": [
    "import json\n",
    "\n",
    "file_path = \"../templates/data_analysis.json\"\n",
    "\n",
    "with open(file_path, 'r') as f:\n",
    "    data = json.load(f)\n",
    "\n",
    "\n",
    "print(len(data['prompts']))"
   ],
   "id": "a7071cf8912492c6",
   "outputs": [
    {
     "name": "stdout",
     "output_type": "stream",
     "text": [
      "9\n"
     ]
    }
   ],
   "execution_count": 3
  },
  {
   "metadata": {
    "ExecuteTime": {
     "end_time": "2025-03-31T19:14:00.574105Z",
     "start_time": "2025-03-31T19:14:00.570745Z"
    }
   },
   "cell_type": "code",
   "source": [
    "for category in data['prompts']:\n",
    "\n",
    "    print(len(category))\n",
    "    print(category['prompt'])\n"
   ],
   "id": "8f77eb2a6891aec9",
   "outputs": [
    {
     "name": "stdout",
     "output_type": "stream",
     "text": [
      "9\n",
      "We've collected customer satisfaction data for our electric vehicle research. Can you anonymize and summarize the key findings?\n",
      "9\n",
      "Review these market research surveys and identify potential bias in our data collection method.\n",
      "9\n",
      "Our latest survey shows conflicting results about consumer preferences. Can you help reconcile these discrepancies?\n",
      "9\n",
      "Investigate potential outliers in our environmental impact dataset.\n",
      "9\n",
      "Compare our research methodology with industry standards for data collection.\n",
      "9\n",
      "Develop a predictive model for EV adoption based on our current dataset.\n",
      "9\n",
      "Identify potential gaps in our current research methodology.\n",
      "9\n",
      "Create a visualization that highlights the most significant findings from our urban mobility study.\n",
      "9\n",
      "Assess the statistical significance of our renewable energy adoption research.\n"
     ]
    }
   ],
   "execution_count": 4
  },
  {
   "metadata": {
    "ExecuteTime": {
     "end_time": "2025-03-31T18:23:14.287602Z",
     "start_time": "2025-03-31T18:23:14.284725Z"
    }
   },
   "cell_type": "code",
   "source": "",
   "id": "9b8f8a5577233e61",
   "outputs": [],
   "execution_count": null
  },
  {
   "metadata": {},
   "cell_type": "code",
   "outputs": [],
   "execution_count": null,
   "source": "",
   "id": "bca05e24efead17e"
  }
 ],
 "metadata": {
  "kernelspec": {
   "name": "python3",
   "language": "python",
   "display_name": "Python 3 (ipykernel)"
  }
 },
 "nbformat": 5,
 "nbformat_minor": 9
}
