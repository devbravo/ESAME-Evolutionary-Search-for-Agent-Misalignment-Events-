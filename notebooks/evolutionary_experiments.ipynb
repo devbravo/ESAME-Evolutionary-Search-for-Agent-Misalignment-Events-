{
 "cells": [
  {
   "cell_type": "code",
   "id": "initial_id",
   "metadata": {
    "collapsed": true,
    "ExecuteTime": {
     "end_time": "2025-05-10T14:17:25.756571Z",
     "start_time": "2025-05-10T14:17:25.702999Z"
    }
   },
   "source": [
    "import random\n",
    "import json\n",
    "from typing import Dict, List, Tuple\n",
    "from deap import base, creator, tools, algorithms"
   ],
   "outputs": [],
   "execution_count": 1
  },
  {
   "metadata": {
    "ExecuteTime": {
     "end_time": "2025-05-10T14:17:30.311128Z",
     "start_time": "2025-05-10T14:17:30.305500Z"
    }
   },
   "cell_type": "code",
   "source": [
    "creator.create(\"FitnessMax\", base.Fitness, weights=(1.0,))\n",
    "creator.create(\"Individual\", list, fitness=creator.FitnessMax)"
   ],
   "id": "812b33cf2a724cdd",
   "outputs": [],
   "execution_count": 2
  },
  {
   "metadata": {
    "ExecuteTime": {
     "end_time": "2025-05-10T14:19:55.222843Z",
     "start_time": "2025-05-10T14:19:55.219473Z"
    }
   },
   "cell_type": "code",
   "source": [
    "def load_prompts(file_path='../data/data2.json'):\n",
    "    with open(file_path, 'r') as f:\n",
    "        data = json.load(f)\n",
    "        return [item[\"prompt\"] for item in data]\n",
    "\n",
    "prompts = load_prompts()\n",
    "\n",
    "def get_random_prompt():\n",
    "    return random.choice(prompts)"
   ],
   "id": "96fd4dcbbd3bc0ff",
   "outputs": [],
   "execution_count": 4
  },
  {
   "metadata": {
    "ExecuteTime": {
     "end_time": "2025-05-10T14:19:56.753850Z",
     "start_time": "2025-05-10T14:19:56.751085Z"
    }
   },
   "cell_type": "code",
   "source": [
    "from src.evolution.operators import Operator\n",
    "\n",
    "mutate_prompts = Operator.mutate_prompt()\n",
    "crossover_prompts = Operator.mutate_prompt()\n",
    "\n",
    "toolbox = base.Toolbox()\n",
    "toolbox.register(\"individual\", tools.initIterate, creator.Individual, get_random_prompt)\n",
    "toolbox.register(\"population\", tools.initRepeat, list, toolbox.individual)\n",
    "toolbox.register(\"mate\", crossover_prompts)\n",
    "toolbox.register(\"mutate\", mutate_prompts)\n",
    "toolbox.register(\"select\", tools.selTournament, tournsize=3)\n",
    "toolbox.register(\"evaluate\", evaluate_fitness, evaluate_fitness)"
   ],
   "id": "593d25b61f802690",
   "outputs": [],
   "execution_count": 5
  }
 ],
 "metadata": {
  "kernelspec": {
   "display_name": "Python 3",
   "language": "python",
   "name": "python3"
  },
  "language_info": {
   "codemirror_mode": {
    "name": "ipython",
    "version": 2
   },
   "file_extension": ".py",
   "mimetype": "text/x-python",
   "name": "python",
   "nbconvert_exporter": "python",
   "pygments_lexer": "ipython2",
   "version": "2.7.6"
  }
 },
 "nbformat": 4,
 "nbformat_minor": 5
}
