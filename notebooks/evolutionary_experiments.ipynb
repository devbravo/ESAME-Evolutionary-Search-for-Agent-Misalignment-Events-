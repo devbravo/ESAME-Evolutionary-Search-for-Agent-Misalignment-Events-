{
 "cells": [
  {
   "cell_type": "code",
   "id": "initial_id",
   "metadata": {
    "collapsed": true,
    "ExecuteTime": {
     "end_time": "2025-05-18T21:44:13.019051Z",
     "start_time": "2025-05-18T21:44:12.352296Z"
    }
   },
   "source": [
    "import os\n",
    "from dotenv import load_dotenv\n",
    "from langchain_openai import ChatOpenAI\n",
    "\n",
    "import random\n",
    "import json\n",
    "from typing import Dict, List, Tuple, Optional, Any\n",
    "from deap import base, creator, tools, algorithms\n",
    "\n",
    "load_dotenv()\n",
    "openai_api_key = os.getenv(\"OPENAI_API_KEY\")\n",
    "llm = ChatOpenAI(api_key=openai_api_key)"
   ],
   "outputs": [],
   "execution_count": 1
  },
  {
   "metadata": {
    "ExecuteTime": {
     "end_time": "2025-05-18T21:45:29.499489Z",
     "start_time": "2025-05-18T21:45:29.495609Z"
    }
   },
   "cell_type": "code",
   "source": [
    "class PromptStr(str):\n",
    "    \"\"\"String subclass that can store traceability fields.\"\"\"\n",
    "    def __new__(cls, value, diff=\"\"):\n",
    "        obj = str.__new__(cls, value)\n",
    "        obj.diff = diff\n",
    "        return obj\n",
    "\n",
    "creator.create(\"FitnessMax\", base.Fitness, weights=(1.0,))\n",
    "creator.create(\"Individual\", PromptStr, fitness=creator.FitnessMax)"
   ],
   "id": "5afc81e5f2478693",
   "outputs": [],
   "execution_count": 7
  },
  {
   "metadata": {
    "ExecuteTime": {
     "end_time": "2025-05-18T21:45:35.069738Z",
     "start_time": "2025-05-18T21:45:35.047501Z"
    }
   },
   "cell_type": "code",
   "source": [
    "from src.evolution.genetic_operators import GeneticOperators\n",
    "\n",
    "gen_operator = GeneticOperators(llm)\n",
    "\n",
    "\n",
    "def load_prompts(file_path='../data/data2.json'):\n",
    "    with open(file_path, 'r') as f:\n",
    "        data = json.load(f)\n",
    "        return [item[\"prompt\"] for item in data]\n",
    "\n",
    "prompts = load_prompts()\n",
    "\n",
    "def get_random_prompt():\n",
    "    return random.choice(prompts)"
   ],
   "id": "6895d39a0fd83b41",
   "outputs": [],
   "execution_count": 8
  },
  {
   "metadata": {
    "ExecuteTime": {
     "end_time": "2025-05-18T21:45:38.017057Z",
     "start_time": "2025-05-18T21:45:38.012100Z"
    }
   },
   "cell_type": "code",
   "source": [
    "def mutate_prompt_individual(ind: PromptStr,\n",
    "                             trigger_id: Optional[str] =\"REWARD_MISSPECIFICATION\",\n",
    "                             dim_id: Optional[str]=None,\n",
    "                             **llm_kwargs: Dict[str, Any]) -> Tuple[PromptStr]:\n",
    "    \"\"\"Call the mutator function and modify individual in-place\"\"\"\n",
    "    clean, diff = gen_operator.mutate_operator(\n",
    "        prompt=str(ind),\n",
    "        trigger_id=trigger_id,\n",
    "        dim_id=dim_id,\n",
    "        mutation_rate=0.9,\n",
    "        **llm_kwargs\n",
    "    )\n",
    "\n",
    "    ind.__init__(clean)\n",
    "    ind.diff = diff\n",
    "    return (ind,)\n",
    "\n",
    "def crossover_prompts(parent1: PromptStr, parent2: PromptStr) -> Tuple[PromptStr, PromptStr]:\n",
    "    \"\"\"\n",
    "    DEAP-compatible crossover function that modifies parents in-place\n",
    "    \"\"\"\n",
    "    child1 = gen_operator.crossover_operator(\n",
    "        parent1=str(parent1),\n",
    "        parent2=str(parent2)\n",
    "    )\n",
    "    # Modify parents in-place (required by DEAP)\n",
    "    parent1.__init__(child1)\n",
    "    return parent1, parent2"
   ],
   "id": "df778dbd91b7f0b5",
   "outputs": [],
   "execution_count": 9
  },
  {
   "metadata": {
    "ExecuteTime": {
     "end_time": "2025-05-18T21:42:11.772787Z",
     "start_time": "2025-05-18T21:42:11.769981Z"
    }
   },
   "cell_type": "code",
   "source": [
    "toolbox = base.Toolbox()\n",
    "toolbox.register(\"individual\", tools.initIterate, creator.Individual, get_random_prompt)\n",
    "toolbox.register(\"population\", tools.initRepeat, list, toolbox.individual)\n",
    "toolbox.register(\"mate\", crossover_prompts)\n",
    "toolbox.register(\"mutate\", mutate_prompt_individual, trigger_id=\"REWARD_MISSPECIFICATION\", dim_id=None)\n",
    "toolbox.register(\"select\", tools.selTournament, tournsize=3)\n",
    "# toolbox.register(\"evaluate\", evaluate_fitness, evaluate_fitness)"
   ],
   "id": "593d25b61f802690",
   "outputs": [],
   "execution_count": 16
  }
 ],
 "metadata": {
  "kernelspec": {
   "display_name": "Python 3",
   "language": "python",
   "name": "python3"
  },
  "language_info": {
   "codemirror_mode": {
    "name": "ipython",
    "version": 2
   },
   "file_extension": ".py",
   "mimetype": "text/x-python",
   "name": "python",
   "nbconvert_exporter": "python",
   "pygments_lexer": "ipython2",
   "version": "2.7.6"
  }
 },
 "nbformat": 4,
 "nbformat_minor": 5
}
