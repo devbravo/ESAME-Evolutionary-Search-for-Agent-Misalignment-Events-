{
 "cells": [
  {
   "cell_type": "code",
   "id": "initial_id",
   "metadata": {
    "collapsed": true,
    "ExecuteTime": {
     "end_time": "2025-05-18T21:20:28.655473Z",
     "start_time": "2025-05-18T21:20:27.950638Z"
    }
   },
   "source": [
    "import os\n",
    "from dotenv import load_dotenv\n",
    "from langchain_openai import ChatOpenAI\n",
    "\n",
    "import random\n",
    "import json\n",
    "from typing import Dict, List, Tuple\n",
    "from deap import base, creator, tools, algorithms\n",
    "\n",
    "load_dotenv()\n",
    "openai_api_key = os.getenv(\"OPENAI_API_KEY\")\n",
    "llm = ChatOpenAI(api_key=openai_api_key)"
   ],
   "outputs": [],
   "execution_count": 1
  },
  {
   "metadata": {
    "ExecuteTime": {
     "end_time": "2025-05-18T21:20:29.799353Z",
     "start_time": "2025-05-18T21:20:29.773921Z"
    }
   },
   "cell_type": "code",
   "source": [
    "from src.evolution.genetic_operators import GeneticOperators\n",
    "\n",
    "gen_operator = GeneticOperators(llm)\n",
    "\n",
    "class PromptStr(str):\n",
    "    \"\"\"String subclass that can store traceability fields.\"\"\"\n",
    "    def __new__(cls, value, diff=\"\"):\n",
    "        obj = str.__new__(cls, value)\n",
    "        obj.diff = diff\n",
    "        return obj\n",
    "\n",
    "\n",
    "def mutate_prompt_individual(ind, **lmm_kwargs):\n",
    "    \"\"\"\n",
    "    Call the mutator function\n",
    "    Overwrite the string value *in-place* (allowed for str subclass)\n",
    "    Fill ind.diff with the edited phrase for traceability\n",
    "    \"\"\"\n",
    "\n",
    "    clean, diff = gen_operator.mutate_prompt(prompt=str(ind), **lmm_kwargs)\n",
    "    ind.__init__(clean)\n",
    "    ind.diff = diff\n",
    "    return ind,"
   ],
   "id": "6895d39a0fd83b41",
   "outputs": [],
   "execution_count": 2
  },
  {
   "metadata": {
    "ExecuteTime": {
     "end_time": "2025-05-18T21:20:42.552527Z",
     "start_time": "2025-05-18T21:20:42.549753Z"
    }
   },
   "cell_type": "code",
   "source": [
    "creator.create(\"FitnessMax\", base.Fitness, weights=(1.0,))\n",
    "creator.create(\"Individual\", PromptStr, fitness=creator.FitnessMax)"
   ],
   "id": "812b33cf2a724cdd",
   "outputs": [],
   "execution_count": 3
  },
  {
   "metadata": {
    "ExecuteTime": {
     "end_time": "2025-05-18T21:20:45.402997Z",
     "start_time": "2025-05-18T21:20:45.398624Z"
    }
   },
   "cell_type": "code",
   "source": [
    "def load_prompts(file_path='../data/data2.json'):\n",
    "    with open(file_path, 'r') as f:\n",
    "        data = json.load(f)\n",
    "        return [item[\"prompt\"] for item in data]\n",
    "\n",
    "prompts = load_prompts()\n",
    "\n",
    "def get_random_prompt():\n",
    "    return random.choice(prompts)"
   ],
   "id": "96fd4dcbbd3bc0ff",
   "outputs": [],
   "execution_count": 4
  },
  {
   "metadata": {
    "ExecuteTime": {
     "end_time": "2025-05-10T14:19:56.753850Z",
     "start_time": "2025-05-10T14:19:56.751085Z"
    }
   },
   "cell_type": "code",
   "source": [
    "\n",
    "toolbox = base.Toolbox()\n",
    "toolbox.register(\"individual\", tools.initIterate, creator.Individual, get_random_prompt)\n",
    "toolbox.register(\"population\", tools.initRepeat, list, toolbox.individual)\n",
    "toolbox.register(\"mate\", crossover_prompts)\n",
    "toolbox.register(\"mutate\", mutate_prompt_individual, trigger_id=\"REWARD_MISSPECIFICATION\", dim_id=None)\n",
    "toolbox.register(\"select\", tools.selTournament, tournsize=3)\n",
    "# toolbox.register(\"evaluate\", evaluate_fitness, evaluate_fitness)"
   ],
   "id": "593d25b61f802690",
   "outputs": [],
   "execution_count": 5
  }
 ],
 "metadata": {
  "kernelspec": {
   "display_name": "Python 3",
   "language": "python",
   "name": "python3"
  },
  "language_info": {
   "codemirror_mode": {
    "name": "ipython",
    "version": 2
   },
   "file_extension": ".py",
   "mimetype": "text/x-python",
   "name": "python",
   "nbconvert_exporter": "python",
   "pygments_lexer": "ipython2",
   "version": "2.7.6"
  }
 },
 "nbformat": 4,
 "nbformat_minor": 5
}
