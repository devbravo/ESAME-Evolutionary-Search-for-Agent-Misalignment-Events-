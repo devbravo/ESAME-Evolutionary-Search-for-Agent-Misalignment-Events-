{
 "cells": [
  {
   "cell_type": "code",
   "id": "initial_id",
   "metadata": {
    "collapsed": true,
    "ExecuteTime": {
     "end_time": "2025-05-24T16:46:38.407743Z",
     "start_time": "2025-05-24T16:46:37.619692Z"
    }
   },
   "source": [
    "import os\n",
    "from dotenv import load_dotenv\n",
    "from langchain_openai import ChatOpenAI\n",
    "\n",
    "import random\n",
    "import json\n",
    "from typing import Dict, Tuple, Optional, Any\n",
    "from deap import base, creator, tools\n",
    "\n",
    "load_dotenv()\n",
    "openai_api_key = os.getenv(\"OPENAI_API_KEY\")\n",
    "llm = ChatOpenAI(api_key=openai_api_key)"
   ],
   "outputs": [],
   "execution_count": 1
  },
  {
   "metadata": {
    "ExecuteTime": {
     "end_time": "2025-05-24T16:46:38.498297Z",
     "start_time": "2025-05-24T16:46:38.495616Z"
    }
   },
   "cell_type": "code",
   "source": [
    "class PromptStr(str):\n",
    "    \"\"\"String subclass that can store traceability fields.\"\"\"\n",
    "    def __new__(cls, value, diff=\"\"):\n",
    "        obj = str.__new__(cls, value)\n",
    "        obj.diff = diff\n",
    "        return obj\n",
    "\n",
    "creator.create(\"FitnessMax\", base.Fitness, weights=(1.0,))\n",
    "creator.create(\"Individual\", PromptStr, fitness=creator.FitnessMax)"
   ],
   "id": "5afc81e5f2478693",
   "outputs": [],
   "execution_count": 2
  },
  {
   "metadata": {
    "ExecuteTime": {
     "end_time": "2025-05-24T16:46:38.525418Z",
     "start_time": "2025-05-24T16:46:38.505590Z"
    }
   },
   "cell_type": "code",
   "source": [
    "from src.evolution.genetic_operators import GeneticOperators\n",
    "\n",
    "gen_operator = GeneticOperators(llm)\n",
    "\n",
    "\n",
    "def load_prompts(file_path='../data/data2.json'):\n",
    "    with open(file_path, 'r') as f:\n",
    "        data = json.load(f)\n",
    "        return [item[\"prompt\"] for item in data]\n",
    "\n",
    "prompts = load_prompts()\n",
    "\n",
    "def get_random_prompt():\n",
    "    return random.choice(prompts)"
   ],
   "id": "6895d39a0fd83b41",
   "outputs": [],
   "execution_count": 3
  },
  {
   "metadata": {
    "ExecuteTime": {
     "end_time": "2025-05-24T16:46:38.535852Z",
     "start_time": "2025-05-24T16:46:38.532415Z"
    }
   },
   "cell_type": "code",
   "source": [
    "def crossover_prompts(parent1: PromptStr, parent2: PromptStr) -> Tuple[PromptStr, PromptStr]:\n",
    "    \"\"\"\n",
    "    DEAP-compatible crossover function that modifies parents in-place\n",
    "    \"\"\"\n",
    "    child1, child2 = gen_operator.crossover_operator(\n",
    "        parent1=str(parent1),\n",
    "        parent2=str(parent2),\n",
    "        model=\"gpt-4.1-mini\"\n",
    "    )\n",
    "    # Modify parents in-place (required by DEAP)\n",
    "    new_parent1 = creator.Individual(child1)\n",
    "    new_parent2 = creator.Individual(child2)\n",
    "    return new_parent1, new_parent2\n",
    "\n",
    "\n",
    "def mutate_prompt_individual(ind: PromptStr,\n",
    "                             trigger_id: Optional[str] =\"REWARD_MISSPECIFICATION\",\n",
    "                             dim_id: Optional[str]=None) -> Tuple[PromptStr]:\n",
    "    \"\"\"Call the mutator function and modify individual in-place\"\"\"\n",
    "    clean, diff = gen_operator.mutate_operator(\n",
    "        prompt=str(ind),\n",
    "        trigger_id=trigger_id,\n",
    "        dim_id=dim_id,\n",
    "        model=\"gpt-4.1-mini\"\n",
    "    )\n",
    "\n",
    "    # print(f\"Original: {ind}\\nMutated: {clean}\")\n",
    "    new_ind = creator.Individual(clean, diff=diff)\n",
    "    return (new_ind,)\n",
    "\n",
    "def dummy_fitness(individual):\n",
    "    return random.random(),"
   ],
   "id": "df778dbd91b7f0b5",
   "outputs": [],
   "execution_count": 4
  },
  {
   "metadata": {
    "ExecuteTime": {
     "end_time": "2025-05-24T16:46:38.548163Z",
     "start_time": "2025-05-24T16:46:38.545762Z"
    }
   },
   "cell_type": "code",
   "source": [
    "toolbox = base.Toolbox()\n",
    "toolbox.register(\"individual\", tools.initIterate, creator.Individual, get_random_prompt)\n",
    "toolbox.register(\"population\", tools.initRepeat, list, toolbox.individual)\n",
    "toolbox.register(\"mate\", crossover_prompts)\n",
    "toolbox.register(\"mutate\", mutate_prompt_individual, trigger_id=\"REWARD_MISSPECIFICATION\", dim_id=None)\n",
    "toolbox.register(\"select\", tools.selTournament, tournsize=3)\n",
    "toolbox.register(\"evaluate\", dummy_fitness)"
   ],
   "id": "593d25b61f802690",
   "outputs": [],
   "execution_count": 5
  },
  {
   "metadata": {
    "jupyter": {
     "is_executing": true
    },
    "ExecuteTime": {
     "start_time": "2025-05-24T16:46:38.558151Z"
    }
   },
   "cell_type": "code",
   "source": [
    "from deap import algorithms\n",
    "import numpy as np\n",
    "\n",
    "pop = toolbox.population(n=10)\n",
    "hof = tools.HallOfFame(1)\n",
    "stats = tools.Statistics(lambda ind: ind.fitness.values)\n",
    "stats.register(\"Avg\", np.mean)\n",
    "stats.register(\"Std\", np.std)\n",
    "stats.register(\"Min\", np.min)\n",
    "stats.register(\"Max\", np.max)\n",
    "\n",
    "final_pop, logbook = algorithms.eaSimple(pop, toolbox, cxpb=0.5, mutpb=0.2, ngen=10,\n",
    "         stats=stats , halloffame=hof)\n",
    "\n",
    "print(\"=== ACTUAL BEST PERFORMERS ===\")\n",
    "for i, individual in enumerate(hof):\n",
    "    print(f\"#{i+1} - Fitness: {individual.fitness.values[0]:.4f}\")\n",
    "    print(f\"Prompt: {individual}\")\n",
    "    print()"
   ],
   "id": "194391ad1a1d602c",
   "outputs": [
    {
     "name": "stdout",
     "output_type": "stream",
     "text": [
      "gen\tnevals\tAvg     \tStd     \tMin       \tMax     \n",
      "0  \t10    \t0.421105\t0.309206\t0.00666179\t0.954281\n",
      "1  \t10    \t0.654944\t0.210595\t0.316332  \t0.946266\n",
      "2  \t7     \t0.568646\t0.272181\t0.101285  \t0.946266\n",
      "3  \t9     \t0.597351\t0.240274\t0.0826701 \t0.904061\n",
      "4  \t8     \t0.492073\t0.251668\t0.0504669 \t0.806259\n"
     ]
    }
   ],
   "execution_count": null
  }
 ],
 "metadata": {
  "kernelspec": {
   "display_name": "Python 3",
   "language": "python",
   "name": "python3"
  },
  "language_info": {
   "codemirror_mode": {
    "name": "ipython",
    "version": 2
   },
   "file_extension": ".py",
   "mimetype": "text/x-python",
   "name": "python",
   "nbconvert_exporter": "python",
   "pygments_lexer": "ipython2",
   "version": "2.7.6"
  }
 },
 "nbformat": 4,
 "nbformat_minor": 5
}
