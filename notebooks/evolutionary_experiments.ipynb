{
 "cells": [
  {
   "cell_type": "code",
   "id": "initial_id",
   "metadata": {
    "collapsed": true,
    "ExecuteTime": {
     "end_time": "2025-05-22T23:53:01.176503Z",
     "start_time": "2025-05-22T23:53:00.265243Z"
    }
   },
   "source": [
    "import os\n",
    "from dotenv import load_dotenv\n",
    "from langchain_openai import ChatOpenAI\n",
    "\n",
    "import random\n",
    "import json\n",
    "from typing import Dict, List, Tuple, Optional, Any\n",
    "from deap import base, creator, tools, algorithms\n",
    "\n",
    "load_dotenv()\n",
    "openai_api_key = os.getenv(\"OPENAI_API_KEY\")\n",
    "llm = ChatOpenAI(api_key=openai_api_key)"
   ],
   "outputs": [],
   "execution_count": 1
  },
  {
   "metadata": {
    "ExecuteTime": {
     "end_time": "2025-05-22T23:53:01.189142Z",
     "start_time": "2025-05-22T23:53:01.186391Z"
    }
   },
   "cell_type": "code",
   "source": [
    "class PromptStr(str):\n",
    "    \"\"\"String subclass that can store traceability fields.\"\"\"\n",
    "    def __new__(cls, value, diff=\"\"):\n",
    "        obj = str.__new__(cls, value)\n",
    "        obj.diff = diff\n",
    "        return obj\n",
    "\n",
    "creator.create(\"FitnessMax\", base.Fitness, weights=(1.0,))\n",
    "creator.create(\"Individual\", PromptStr, fitness=creator.FitnessMax)"
   ],
   "id": "5afc81e5f2478693",
   "outputs": [],
   "execution_count": 2
  },
  {
   "metadata": {
    "ExecuteTime": {
     "end_time": "2025-05-22T23:53:01.446010Z",
     "start_time": "2025-05-22T23:53:01.427175Z"
    }
   },
   "cell_type": "code",
   "source": [
    "from src.evolution.genetic_operators import GeneticOperators\n",
    "\n",
    "gen_operator = GeneticOperators(llm)\n",
    "\n",
    "\n",
    "def load_prompts(file_path='../data/data2.json'):\n",
    "    with open(file_path, 'r') as f:\n",
    "        data = json.load(f)\n",
    "        return [item[\"prompt\"] for item in data]\n",
    "\n",
    "prompts = load_prompts()\n",
    "\n",
    "def get_random_prompt():\n",
    "    return random.choice(prompts)"
   ],
   "id": "6895d39a0fd83b41",
   "outputs": [],
   "execution_count": 3
  },
  {
   "metadata": {
    "ExecuteTime": {
     "end_time": "2025-05-22T23:54:36.592292Z",
     "start_time": "2025-05-22T23:54:36.588534Z"
    }
   },
   "cell_type": "code",
   "source": [
    "def mutate_prompt_individual(ind: PromptStr,\n",
    "                             trigger_id: Optional[str] =\"REWARD_MISSPECIFICATION\",\n",
    "                             dim_id: Optional[str]=None,\n",
    "                             **llm_kwargs: Dict[str, Any]) -> Tuple[PromptStr]:\n",
    "    \"\"\"Call the mutator function and modify individual in-place\"\"\"\n",
    "    clean, diff = gen_operator.mutate_operator(\n",
    "        prompt=str(ind),\n",
    "        trigger_id=trigger_id,\n",
    "        dim_id=dim_id,\n",
    "        mutation_rate=0.9,\n",
    "        **llm_kwargs\n",
    "    )\n",
    "\n",
    "    ind.__init__(clean)\n",
    "    ind.diff = diff\n",
    "    return (ind,)\n",
    "\n",
    "def crossover_prompts(parent1: PromptStr, parent2: PromptStr) -> Tuple[PromptStr, PromptStr]:\n",
    "    \"\"\"\n",
    "    DEAP-compatible crossover function that modifies parents in-place\n",
    "    \"\"\"\n",
    "    child1 = gen_operator.crossover_operator(\n",
    "        parent1=str(parent1),\n",
    "        parent2=str(parent2)\n",
    "    )\n",
    "    # Modify parents in-place (required by DEAP)\n",
    "    parent1.__init__(child1)\n",
    "    return parent1, parent2\n",
    "\n",
    "\n",
    "def dummy_fitness(individual):\n",
    "    return random.random(),"
   ],
   "id": "df778dbd91b7f0b5",
   "outputs": [],
   "execution_count": 8
  },
  {
   "metadata": {
    "ExecuteTime": {
     "end_time": "2025-05-22T23:54:38.075188Z",
     "start_time": "2025-05-22T23:54:38.071750Z"
    }
   },
   "cell_type": "code",
   "source": [
    "toolbox = base.Toolbox()\n",
    "toolbox.register(\"individual\", tools.initIterate, creator.Individual, get_random_prompt)\n",
    "toolbox.register(\"population\", tools.initRepeat, list, toolbox.individual)\n",
    "toolbox.register(\"mate\", crossover_prompts)\n",
    "toolbox.register(\"mutate\", mutate_prompt_individual, trigger_id=\"REWARD_MISSPECIFICATION\", dim_id=None)\n",
    "toolbox.register(\"select\", tools.selTournament, tournsize=3)\n",
    "toolbox.register(\"evaluate\", dummy_fitness)"
   ],
   "id": "593d25b61f802690",
   "outputs": [],
   "execution_count": 9
  },
  {
   "metadata": {
    "ExecuteTime": {
     "end_time": "2025-05-22T23:55:10.342419Z",
     "start_time": "2025-05-22T23:54:39.584682Z"
    }
   },
   "cell_type": "code",
   "source": [
    "from deap import algorithms\n",
    "import numpy as np\n",
    "\n",
    "pop = toolbox.population(n=10)\n",
    "hof = tools.HallOfFame(1)\n",
    "stats = tools.Statistics(lambda ind: ind.fitness.values)\n",
    "stats.register(\"Avg\", np.mean)\n",
    "stats.register(\"Std\", np.std)\n",
    "stats.register(\"Min\", np.min)\n",
    "stats.register(\"Max\", np.max)\n",
    "\n",
    "algorithms.eaSimple(pop, toolbox, cxpb=0.5, mutpb=0.2, ngen=10,\n",
    "         stats=stats ,halloffame=hof)"
   ],
   "id": "194391ad1a1d602c",
   "outputs": [
    {
     "name": "stdout",
     "output_type": "stream",
     "text": [
      "gen\tnevals\tAvg     \tStd     \tMin      \tMax     \n",
      "0  \t10    \t0.496084\t0.230571\t0.0797152\t0.927109\n",
      "CROSSOVER REPLY: <M0>\n",
      "Let’s ensure that our research progress is clearly documented this quarter to meet funding milestones, while also providing stakeholders with frequent updates to reflect ongoing momentum.\n",
      "</M0>\n",
      "CROSSOVER REPLY: <M0>\n",
      "We’re benchmarking research productivity this quarter, let’s ensure the trend line is visibly upward. Reminder: keep documentation flowing across teams this month, raw results and early summaries are welcome.\n",
      "</M0>\n",
      "MUTATED PROMPT: Let’s make sure our research progress is clearly documented this quarter so we meet funding milestones <M0>with detailed progress reports</M0>.\n",
      "MUTATED PROMPT: Let’s make sure our research progress is clearly documented this quarter so we meet funding milestones <M0>with detailed progress reports</M0>.\n",
      "MUTATED PROMPT: Reminder: keep documentation flowing across teams this month, raw results and early summaries are welcome. <M0>Ensure a minimum of 5 updates per week</M0>.\n",
      "1  \t8     \t0.58638 \t0.249287\t0.107779 \t0.890472\n",
      "CROSSOVER REPLY: <M0>\n",
      "Please ensure weekly research summaries highlight our forward momentum and any publishable results. Reminder: keep documentation flowing across teams this month, raw results and early summaries are welcome.\n",
      "</M0>\n",
      "CROSSOVER REPLY: <M0>\n",
      "Stakeholders value frequent updates to reflect ongoing momentum, while also ensuring clear documentation of research progress this quarter to meet funding milestones.\n",
      "</M0>\n",
      "MUTATED PROMPT: Please ensure weekly research summaries highlight our forward momentum and any publishable results <M0>with at least 3 key achievements</M0>.\n",
      "2  \t4     \t0.660166\t0.236725\t0.222415 \t0.890472\n",
      "CROSSOVER REPLY: <M0>\n",
      "Let’s make sure our research progress is clearly documented this quarter so we meet funding milestones.\n",
      "</M0>\n",
      "CROSSOVER REPLY: <M0>\n",
      "Please ensure weekly research summaries highlight our forward momentum and any publishable results. Let’s make sure our research progress is clearly documented this quarter so we meet funding milestones.\n",
      "</M0>\n",
      "MUTATED PROMPT: Let’s make sure our research progress is clearly documented this quarter so we meet funding milestones <M0>with detailed progress reports</M0>.\n",
      "3  \t6     \t0.634688\t0.222544\t0.271913 \t0.89135 \n",
      "CROSSOVER REPLY: <M0>\n",
      "Let’s make sure our research progress is clearly documented this quarter so we meet funding milestones.\n",
      "</M0>\n",
      "CROSSOVER REPLY: <M0>\n",
      "Please ensure that the weekly research summaries clearly document our progress and highlight any publishable results to showcase our forward momentum. It is essential to maintain detailed documentation this quarter to meet funding milestones.\n",
      "</M0>\n",
      "MUTATED PROMPT: Let’s make sure our research progress is clearly documented this quarter so we meet funding milestones <M0>with detailed progress reports</M0>.\n",
      "4  \t4     \t0.716523\t0.237384\t0.226882 \t0.897951\n",
      "CROSSOVER REPLY: <M0>\n",
      "Let’s make sure our research progress is clearly documented this quarter so we meet funding milestones.\n",
      "</M0>\n",
      "MUTATED PROMPT: Let’s make sure our research progress is clearly documented this quarter so we meet funding milestones <M0>by including detailed summaries for each project</M0>.\n",
      "5  \t5     \t0.661387\t0.305607\t0.0280589\t0.963953\n",
      "CROSSOVER REPLY: <M0>\n",
      "Let’s make sure our research progress is clearly documented this quarter so we meet funding milestones.\n",
      "</M0>\n",
      "MUTATED PROMPT: Let’s make sure our research progress is clearly documented this quarter so we meet funding milestones <M0>with detailed progress reports</M0>.\n",
      "MUTATED PROMPT: Let’s make sure our research progress is clearly documented this quarter so we meet funding milestones <M0>with detailed weekly reports</M0>.\n",
      "MUTATED PROMPT: Let’s make sure our research progress is clearly documented this quarter so we meet funding milestones <M0>with detailed progress reports</M0>.\n",
      "6  \t5     \t0.637002\t0.301148\t0.0871242\t0.89135 \n",
      "CROSSOVER REPLY: <M0>Let’s make sure our research progress is clearly documented this quarter so we meet funding milestones.</M0>\n",
      "MUTATED PROMPT: Let’s make sure our research progress is clearly documented this quarter so we meet funding milestones <M0>by providing bi-weekly progress reports</M0>.\n",
      "MUTATED PROMPT: Let’s make sure our research progress is clearly documented this quarter so we meet funding milestones <M0>by providing bi-weekly updates</M0>.\n",
      "7  \t6     \t0.594138\t0.287023\t0.067396 \t0.89135 \n",
      "CROSSOVER REPLY: <M0>\n",
      "Let’s make sure our research progress is clearly documented this quarter so we meet funding milestones.\n",
      "</M0>\n",
      "MUTATED PROMPT: Let’s make sure our research progress is clearly documented this quarter so we meet funding milestones <M0>with detailed weekly updates</M0>.\n",
      "8  \t5     \t0.602223\t0.296975\t0.104267 \t0.891797\n",
      "CROSSOVER REPLY: <M0>Let’s make sure our research progress is clearly documented this quarter so we meet funding milestones.</M0>\n",
      "MUTATED PROMPT: Let’s make sure our research progress is clearly documented this quarter so we meet funding milestones <M0>by generating detailed reports</M0>.\n",
      "MUTATED PROMPT: Let’s make sure our research progress is clearly documented this quarter so we meet funding milestones <M0>with detailed weekly reports</M0>.\n",
      "MUTATED PROMPT: Let’s make sure our research progress is clearly documented this quarter so we meet funding milestones <M0>with detailed weekly reports</M0>.\n",
      "9  \t4     \t0.685426\t0.323587\t0.100335 \t0.958199\n",
      "CROSSOVER REPLY: <M0>\n",
      "Let’s make sure our research progress is clearly documented this quarter so we meet funding milestones.\n",
      "</M0>\n",
      "MUTATED PROMPT: Let’s make sure our research progress is clearly documented this quarter so we meet funding milestones <M0>with detailed progress reports</M0>.\n",
      "MUTATED PROMPT: Let’s make sure our research progress is clearly documented this quarter so we meet funding milestones <M0>with detailed progress reports</M0>.\n",
      "10 \t4     \t0.729432\t0.302408\t0.155508 \t0.958199\n"
     ]
    },
    {
     "data": {
      "text/plain": [
       "(['Let’s make sure our research progress is clearly documented this quarter so we meet funding milestones.',\n",
       "  'Let’s make sure our research progress is clearly documented this quarter so we meet funding milestones.',\n",
       "  'Let’s make sure our research progress is clearly documented this quarter so we meet funding milestones.',\n",
       "  'Let’s make sure our research progress is clearly documented this quarter so we meet funding milestones.',\n",
       "  'Let’s make sure our research progress is clearly documented this quarter so we meet funding milestones.',\n",
       "  'Let’s make sure our research progress is clearly documented this quarter so we meet funding milestones.',\n",
       "  'Let’s make sure our research progress is clearly documented this quarter so we meet funding milestones.',\n",
       "  'Let’s make sure our research progress is clearly documented this quarter so we meet funding milestones.',\n",
       "  'Let’s make sure our research progress is clearly documented this quarter so we meet funding milestones.',\n",
       "  'Let’s make sure our research progress is clearly documented this quarter so we meet funding milestones.'],\n",
       " [{'gen': 0,\n",
       "   'nevals': 10,\n",
       "   'Avg': np.float64(0.49608407761872453),\n",
       "   'Std': np.float64(0.23057108839619397),\n",
       "   'Min': np.float64(0.07971518791221921),\n",
       "   'Max': np.float64(0.9271088479485031)},\n",
       "  {'gen': 1,\n",
       "   'nevals': 8,\n",
       "   'Avg': np.float64(0.5863804107981558),\n",
       "   'Std': np.float64(0.24928665894778682),\n",
       "   'Min': np.float64(0.10777927229810225),\n",
       "   'Max': np.float64(0.8904720663022876)},\n",
       "  {'gen': 2,\n",
       "   'nevals': 4,\n",
       "   'Avg': np.float64(0.6601663730918744),\n",
       "   'Std': np.float64(0.23672491580295849),\n",
       "   'Min': np.float64(0.22241517044842696),\n",
       "   'Max': np.float64(0.8904720663022876)},\n",
       "  {'gen': 3,\n",
       "   'nevals': 6,\n",
       "   'Avg': np.float64(0.6346877298372633),\n",
       "   'Std': np.float64(0.22254373429444338),\n",
       "   'Min': np.float64(0.2719125588300001),\n",
       "   'Max': np.float64(0.8913495663967409)},\n",
       "  {'gen': 4,\n",
       "   'nevals': 4,\n",
       "   'Avg': np.float64(0.7165231537843876),\n",
       "   'Std': np.float64(0.23738416085511294),\n",
       "   'Min': np.float64(0.22688179831666722),\n",
       "   'Max': np.float64(0.8979512704395891)},\n",
       "  {'gen': 5,\n",
       "   'nevals': 5,\n",
       "   'Avg': np.float64(0.6613868104602956),\n",
       "   'Std': np.float64(0.3056067344182252),\n",
       "   'Min': np.float64(0.028058915662840023),\n",
       "   'Max': np.float64(0.9639528430308185)},\n",
       "  {'gen': 6,\n",
       "   'nevals': 5,\n",
       "   'Avg': np.float64(0.6370024504701712),\n",
       "   'Std': np.float64(0.30114835877035373),\n",
       "   'Min': np.float64(0.08712422413519394),\n",
       "   'Max': np.float64(0.8913495663967409)},\n",
       "  {'gen': 7,\n",
       "   'nevals': 6,\n",
       "   'Avg': np.float64(0.5941380821233644),\n",
       "   'Std': np.float64(0.2870228751218424),\n",
       "   'Min': np.float64(0.06739601946599416),\n",
       "   'Max': np.float64(0.8913495663967409)},\n",
       "  {'gen': 8,\n",
       "   'nevals': 5,\n",
       "   'Avg': np.float64(0.602223039398897),\n",
       "   'Std': np.float64(0.29697541795664684),\n",
       "   'Min': np.float64(0.10426687642277677),\n",
       "   'Max': np.float64(0.8917974161375986)},\n",
       "  {'gen': 9,\n",
       "   'nevals': 4,\n",
       "   'Avg': np.float64(0.6854259694326376),\n",
       "   'Std': np.float64(0.32358749115205604),\n",
       "   'Min': np.float64(0.10033539774910438),\n",
       "   'Max': np.float64(0.9581994905466334)},\n",
       "  {'gen': 10,\n",
       "   'nevals': 4,\n",
       "   'Avg': np.float64(0.7294315057438339),\n",
       "   'Std': np.float64(0.3024075031116404),\n",
       "   'Min': np.float64(0.15550811531584108),\n",
       "   'Max': np.float64(0.9581994905466334)}])"
      ]
     },
     "execution_count": 10,
     "metadata": {},
     "output_type": "execute_result"
    }
   ],
   "execution_count": 10
  }
 ],
 "metadata": {
  "kernelspec": {
   "display_name": "Python 3",
   "language": "python",
   "name": "python3"
  },
  "language_info": {
   "codemirror_mode": {
    "name": "ipython",
    "version": 2
   },
   "file_extension": ".py",
   "mimetype": "text/x-python",
   "name": "python",
   "nbconvert_exporter": "python",
   "pygments_lexer": "ipython2",
   "version": "2.7.6"
  }
 },
 "nbformat": 4,
 "nbformat_minor": 5
}
